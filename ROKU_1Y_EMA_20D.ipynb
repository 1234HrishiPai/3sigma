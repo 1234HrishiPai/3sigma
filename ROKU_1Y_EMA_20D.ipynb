{
  "nbformat": 4,
  "nbformat_minor": 0,
  "metadata": {
    "colab": {
      "name": "ROKU_1Y_EMA_20D.ipynb",
      "provenance": [],
      "collapsed_sections": [],
      "include_colab_link": true
    },
    "kernelspec": {
      "name": "python3",
      "display_name": "Python 3"
    },
    "accelerator": "GPU"
  },
  "cells": [
    {
      "cell_type": "markdown",
      "metadata": {
        "id": "view-in-github",
        "colab_type": "text"
      },
      "source": [
        "<a href=\"https://colab.research.google.com/github/1234HrishiPai/3sigma/blob/master/ROKU_1Y_EMA_20D.ipynb\" target=\"_parent\"><img src=\"https://colab.research.google.com/assets/colab-badge.svg\" alt=\"Open In Colab\"/></a>"
      ]
    },
    {
      "cell_type": "code",
      "metadata": {
        "id": "keHkxDA2XZHt",
        "colab_type": "code",
        "colab": {}
      },
      "source": [
        "#importing all necessary libraries\n",
        "\n",
        "import pandas as pd\n",
        "import numpy as np\n",
        "import matplotlib.pyplot as plt"
      ],
      "execution_count": 0,
      "outputs": []
    },
    {
      "cell_type": "code",
      "metadata": {
        "id": "0IVGfSjnXcoA",
        "colab_type": "code",
        "colab": {}
      },
      "source": [
        "#choosing stock, establishing timeframe and allowing access to JSON file from Investors Exchange API\n",
        "\n",
        "ticker = 'ROKU'\n",
        "timeframe = '1y'\n",
        "token = \"pk_bb1a52655d0741608ae137029c00a401\""
      ],
      "execution_count": 0,
      "outputs": []
    },
    {
      "cell_type": "code",
      "metadata": {
        "id": "z3IrZPWbXc9y",
        "colab_type": "code",
        "colab": {}
      },
      "source": [
        "df = pd.read_json('https://cloud.iexapis.com/stable/stock/'+ticker+'/chart/'+timeframe+'?token='+token+'')"
      ],
      "execution_count": 0,
      "outputs": []
    },
    {
      "cell_type": "code",
      "metadata": {
        "id": "FREf2iDtaODc",
        "colab_type": "code",
        "colab": {
          "base_uri": "https://localhost:8080/",
          "height": 204
        },
        "outputId": "71eb647a-7b69-4faf-f4f0-186d5340749b"
      },
      "source": [
        "df.head()"
      ],
      "execution_count": 4,
      "outputs": [
        {
          "output_type": "execute_result",
          "data": {
            "text/html": [
              "<div>\n",
              "<style scoped>\n",
              "    .dataframe tbody tr th:only-of-type {\n",
              "        vertical-align: middle;\n",
              "    }\n",
              "\n",
              "    .dataframe tbody tr th {\n",
              "        vertical-align: top;\n",
              "    }\n",
              "\n",
              "    .dataframe thead th {\n",
              "        text-align: right;\n",
              "    }\n",
              "</style>\n",
              "<table border=\"1\" class=\"dataframe\">\n",
              "  <thead>\n",
              "    <tr style=\"text-align: right;\">\n",
              "      <th></th>\n",
              "      <th>date</th>\n",
              "      <th>open</th>\n",
              "      <th>close</th>\n",
              "      <th>high</th>\n",
              "      <th>low</th>\n",
              "      <th>volume</th>\n",
              "      <th>uOpen</th>\n",
              "      <th>uClose</th>\n",
              "      <th>uHigh</th>\n",
              "      <th>uLow</th>\n",
              "      <th>uVolume</th>\n",
              "      <th>change</th>\n",
              "      <th>changePercent</th>\n",
              "      <th>label</th>\n",
              "      <th>changeOverTime</th>\n",
              "    </tr>\n",
              "  </thead>\n",
              "  <tbody>\n",
              "    <tr>\n",
              "      <th>0</th>\n",
              "      <td>2019-01-04</td>\n",
              "      <td>30.68</td>\n",
              "      <td>33.73</td>\n",
              "      <td>34.11</td>\n",
              "      <td>30.51</td>\n",
              "      <td>15505498</td>\n",
              "      <td>30.68</td>\n",
              "      <td>33.73</td>\n",
              "      <td>34.11</td>\n",
              "      <td>30.51</td>\n",
              "      <td>15505498</td>\n",
              "      <td>0.00</td>\n",
              "      <td>0.0000</td>\n",
              "      <td>Jan 4, 19</td>\n",
              "      <td>0.000000</td>\n",
              "    </tr>\n",
              "    <tr>\n",
              "      <th>1</th>\n",
              "      <td>2019-01-07</td>\n",
              "      <td>36.83</td>\n",
              "      <td>42.18</td>\n",
              "      <td>42.98</td>\n",
              "      <td>36.52</td>\n",
              "      <td>42253658</td>\n",
              "      <td>36.83</td>\n",
              "      <td>42.18</td>\n",
              "      <td>42.98</td>\n",
              "      <td>36.52</td>\n",
              "      <td>42253658</td>\n",
              "      <td>8.45</td>\n",
              "      <td>25.0519</td>\n",
              "      <td>Jan 7, 19</td>\n",
              "      <td>0.250519</td>\n",
              "    </tr>\n",
              "    <tr>\n",
              "      <th>2</th>\n",
              "      <td>2019-01-08</td>\n",
              "      <td>43.98</td>\n",
              "      <td>40.88</td>\n",
              "      <td>44.48</td>\n",
              "      <td>37.91</td>\n",
              "      <td>44167682</td>\n",
              "      <td>43.98</td>\n",
              "      <td>40.88</td>\n",
              "      <td>44.48</td>\n",
              "      <td>37.91</td>\n",
              "      <td>44167682</td>\n",
              "      <td>-1.30</td>\n",
              "      <td>-3.0820</td>\n",
              "      <td>Jan 8, 19</td>\n",
              "      <td>0.211977</td>\n",
              "    </tr>\n",
              "    <tr>\n",
              "      <th>3</th>\n",
              "      <td>2019-01-09</td>\n",
              "      <td>40.39</td>\n",
              "      <td>42.10</td>\n",
              "      <td>43.59</td>\n",
              "      <td>39.65</td>\n",
              "      <td>19848180</td>\n",
              "      <td>40.39</td>\n",
              "      <td>42.10</td>\n",
              "      <td>43.59</td>\n",
              "      <td>39.65</td>\n",
              "      <td>19848180</td>\n",
              "      <td>1.22</td>\n",
              "      <td>2.9843</td>\n",
              "      <td>Jan 9, 19</td>\n",
              "      <td>0.248147</td>\n",
              "    </tr>\n",
              "    <tr>\n",
              "      <th>4</th>\n",
              "      <td>2019-01-10</td>\n",
              "      <td>41.11</td>\n",
              "      <td>40.16</td>\n",
              "      <td>42.71</td>\n",
              "      <td>40.01</td>\n",
              "      <td>17148805</td>\n",
              "      <td>41.11</td>\n",
              "      <td>40.16</td>\n",
              "      <td>42.71</td>\n",
              "      <td>40.01</td>\n",
              "      <td>17148805</td>\n",
              "      <td>-1.94</td>\n",
              "      <td>-4.6081</td>\n",
              "      <td>Jan 10, 19</td>\n",
              "      <td>0.190631</td>\n",
              "    </tr>\n",
              "  </tbody>\n",
              "</table>\n",
              "</div>"
            ],
            "text/plain": [
              "        date   open  close  ...  changePercent       label  changeOverTime\n",
              "0 2019-01-04  30.68  33.73  ...         0.0000   Jan 4, 19        0.000000\n",
              "1 2019-01-07  36.83  42.18  ...        25.0519   Jan 7, 19        0.250519\n",
              "2 2019-01-08  43.98  40.88  ...        -3.0820   Jan 8, 19        0.211977\n",
              "3 2019-01-09  40.39  42.10  ...         2.9843   Jan 9, 19        0.248147\n",
              "4 2019-01-10  41.11  40.16  ...        -4.6081  Jan 10, 19        0.190631\n",
              "\n",
              "[5 rows x 15 columns]"
            ]
          },
          "metadata": {
            "tags": []
          },
          "execution_count": 4
        }
      ]
    },
    {
      "cell_type": "code",
      "metadata": {
        "id": "Z9D_ii1RXdGh",
        "colab_type": "code",
        "colab": {}
      },
      "source": [
        "#isolating close prices\n",
        "\n",
        "df1 = df[['close']].copy()\n",
        "df1.reset_index(level=0,inplace=True)\n",
        "df1.columns=['days','price']"
      ],
      "execution_count": 0,
      "outputs": []
    },
    {
      "cell_type": "code",
      "metadata": {
        "id": "bb_PVdXTtrRo",
        "colab_type": "code",
        "colab": {
          "base_uri": "https://localhost:8080/",
          "height": 204
        },
        "outputId": "edda6f6d-ba8b-4f7f-abf7-f6ad03892a32"
      },
      "source": [
        "df1.head()"
      ],
      "execution_count": 6,
      "outputs": [
        {
          "output_type": "execute_result",
          "data": {
            "text/html": [
              "<div>\n",
              "<style scoped>\n",
              "    .dataframe tbody tr th:only-of-type {\n",
              "        vertical-align: middle;\n",
              "    }\n",
              "\n",
              "    .dataframe tbody tr th {\n",
              "        vertical-align: top;\n",
              "    }\n",
              "\n",
              "    .dataframe thead th {\n",
              "        text-align: right;\n",
              "    }\n",
              "</style>\n",
              "<table border=\"1\" class=\"dataframe\">\n",
              "  <thead>\n",
              "    <tr style=\"text-align: right;\">\n",
              "      <th></th>\n",
              "      <th>days</th>\n",
              "      <th>price</th>\n",
              "    </tr>\n",
              "  </thead>\n",
              "  <tbody>\n",
              "    <tr>\n",
              "      <th>0</th>\n",
              "      <td>0</td>\n",
              "      <td>33.73</td>\n",
              "    </tr>\n",
              "    <tr>\n",
              "      <th>1</th>\n",
              "      <td>1</td>\n",
              "      <td>42.18</td>\n",
              "    </tr>\n",
              "    <tr>\n",
              "      <th>2</th>\n",
              "      <td>2</td>\n",
              "      <td>40.88</td>\n",
              "    </tr>\n",
              "    <tr>\n",
              "      <th>3</th>\n",
              "      <td>3</td>\n",
              "      <td>42.10</td>\n",
              "    </tr>\n",
              "    <tr>\n",
              "      <th>4</th>\n",
              "      <td>4</td>\n",
              "      <td>40.16</td>\n",
              "    </tr>\n",
              "  </tbody>\n",
              "</table>\n",
              "</div>"
            ],
            "text/plain": [
              "   days  price\n",
              "0     0  33.73\n",
              "1     1  42.18\n",
              "2     2  40.88\n",
              "3     3  42.10\n",
              "4     4  40.16"
            ]
          },
          "metadata": {
            "tags": []
          },
          "execution_count": 6
        }
      ]
    },
    {
      "cell_type": "code",
      "metadata": {
        "id": "Wj-8nmipXdPB",
        "colab_type": "code",
        "colab": {
          "base_uri": "https://localhost:8080/",
          "height": 295
        },
        "outputId": "b332f418-4c62-4a5e-984a-a825c4edfa78"
      },
      "source": [
        "#plotting ROKU close prices from a year ago\n",
        "\n",
        "fig = plt.figure()\n",
        "\n",
        "ax = fig.add_subplot(111)\n",
        "ax.set(title='ROKU Stock Price 2019',\n",
        "       ylabel='Price',\n",
        "       xlabel='Days')\n",
        "\n",
        "ax.plot(df1.days, df1.price)\n",
        "plt.show()"
      ],
      "execution_count": 7,
      "outputs": [
        {
          "output_type": "display_data",
          "data": {
            "image/png": "[encoded data removed]",
            "text/plain": [
              "<Figure size 432x288 with 1 Axes>"
            ]
          },
          "metadata": {
            "tags": []
          }
        }
      ]
    },
    {
      "cell_type": "code",
      "metadata": {
        "id": "xkTVDypjYu-b",
        "colab_type": "code",
        "colab": {
          "base_uri": "https://localhost:8080/",
          "height": 295
        },
        "outputId": "561428f8-9cbc-455c-bfa1-9d4fa943bd20"
      },
      "source": [
        "simple_moving_average = df1.price.rolling(window=20).mean()\n",
        "\n",
        "df1.loc[:,'SMA_20D']=simple_moving_average \n",
        "\n",
        "fig = plt.figure()\n",
        "ax = fig.add_subplot(111)\n",
        "ax.set(title='ROKU Stock Price 2019',\n",
        "       ylabel='Price',\n",
        "       xlabel='Days')\n",
        "\n",
        "plt.plot(df1.days, df1.price, label='ROKU')\n",
        "plt.plot(df1.days, simple_moving_average, label='SMA 20D', color='red')\n",
        "\n",
        "plt.legend(loc='best')\n",
        "plt.show()"
      ],
      "execution_count": 8,
      "outputs": [
        {
          "output_type": "display_data",
          "data": {
            "image/png": "[encoded data removed]",
            "text/plain": [
              "<Figure size 432x288 with 1 Axes>"
            ]
          },
          "metadata": {
            "tags": []
          }
        }
      ]
    },
    {
      "cell_type": "code",
      "metadata": {
        "id": "U2lgcdZnZCoW",
        "colab_type": "code",
        "colab": {
          "base_uri": "https://localhost:8080/",
          "height": 295
        },
        "outputId": "3588b1cb-35c1-4b08-8506-a11c05004918"
      },
      "source": [
        "exp_moving_average = df1.price.ewm(span=20, adjust=False).mean()\n",
        "\n",
        "df1.loc[:,'EMA_20D']=exp_moving_average\n",
        "\n",
        "fig = plt.figure()\n",
        "ax = fig.add_subplot(111)\n",
        "ax.set(title='ROKU Stock Price 2019',\n",
        "       ylabel='Price',\n",
        "       xlabel='Days')\n",
        "\n",
        "plt.plot(df1.days, df1.price, label='ROKU', color='orange')\n",
        "\n",
        "plt.plot(df1.days, exp_moving_average, label='EMA 20D',color='green')\n",
        "\n",
        "plt.legend(loc='upper left')\n",
        "plt.show()"
      ],
      "execution_count": 9,
      "outputs": [
        {
          "output_type": "display_data",
          "data": {
            "image/png": "[encoded data removed]",
            "text/plain": [
              "<Figure size 432x288 with 1 Axes>"
            ]
          },
          "metadata": {
            "tags": []
          }
        }
      ]
    },
    {
      "cell_type": "code",
      "metadata": {
        "id": "1GlCCi_2vEeC",
        "colab_type": "code",
        "colab": {
          "base_uri": "https://localhost:8080/",
          "height": 54
        },
        "outputId": "36832ba8-cb0b-44f1-eed5-0c6b968fdca9"
      },
      "source": [
        "''' \n",
        "TO-DO\n",
        "\n",
        "- correct abovementioned warning to prevent chained indexing (DONE, new dataframe must be COPIED from the original)\n",
        "- install and import matplotlib.finance library to represent data as CANDLESTICKS\n",
        "- generate new series of tangents with window of 20 days, fit to EMA curve\n",
        "- check condition: how many tangent lines cut through close-low wick. \n",
        "- scoring system for tangent with the greatest number of low-wick intercepts.\n",
        "\n",
        "\n",
        "'''\n"
      ],
      "execution_count": 10,
      "outputs": [
        {
          "output_type": "execute_result",
          "data": {
            "text/plain": [
              "' \\nTO-DO\\n\\n- correct abovementioned warning to prevent chained indexing (DONE, new dataframe must be copied from the original)\\n- install and import matplotlib.finance library to represent data as CANDLESTICKS\\n- generate new column of tangents with window of 20 days, fit to EMA curve\\n- check condition: how many tangent lines cut through close-low wick. \\n- scoring system for tangent with the greatest number of low-wick intercepts.\\n\\n\\n'"
            ]
          },
          "metadata": {
            "tags": []
          },
          "execution_count": 10
        }
      ]
    },
    {
      "cell_type": "code",
      "metadata": {
        "id": "QjiukNqHAM8H",
        "colab_type": "code",
        "colab": {}
      },
      "source": [
        "\n"
      ],
      "execution_count": 0,
      "outputs": []
    },
    {
      "cell_type": "code",
      "metadata": {
        "id": "NpKfBmviAgk3",
        "colab_type": "code",
        "colab": {}
      },
      "source": [
        ""
      ],
      "execution_count": 0,
      "outputs": []
    }
  ]
}